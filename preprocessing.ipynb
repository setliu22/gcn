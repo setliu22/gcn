{
 "cells": [
  {
   "cell_type": "code",
   "execution_count": null,
   "metadata": {},
   "outputs": [],
   "source": [
    "import pandas as pd\n",
    "import torch\n",
    "from torch_geometric.data import Data\n",
    "import os\n",
    "\n",
    "# Load the edge list\n",
    "file_path = os.path.expanduser('~/Downloads/elliptic_bitcoin_dataset/elliptic_txs_edgelist.csv')\n",
    "edges_df = pd.read_csv(file_path)\n",
    "\n",
    "# Load the transaction labels\n",
    "file_path = os.path.expanduser('~/Downloads/elliptic_bitcoin_dataset/elliptic_txs_classes.csv')\n",
    "labels_df = pd.read_csv(file_path)\n",
    "\n",
    "# Load the transaction features\n",
    "file_path = os.path.expanduser('~/Downloads/elliptic_bitcoin_dataset/elliptic_txs_features.csv')\n",
    "num_columns = 167\n",
    "column_names = [f\"{i}\" for i in range(num_columns)]\n",
    "features_df = pd.read_csv(file_path, names=column_names)\n",
    "\n",
    "# Map transaction IDs to node indices\n",
    "tx_id_mapping = {tx_id: idx for idx, tx_id in enumerate(features_df.iloc[:, 0].unique())}\n",
    "\n",
    "# Replace transaction IDs in the edgelist with corresponding indices\n",
    "edges_df['txId1'] = edges_df['txId1'].map(tx_id_mapping)\n",
    "edges_df['txId2'] = edges_df['txId2'].map(tx_id_mapping)\n",
    "\n",
    "# Convert to PyTorch Geometric edge index tensor\n",
    "edge_index = torch.tensor(edges_df.values.T, dtype=torch.long)\n",
    "\n",
    "# Map transaction IDs to node indices in features DataFrame\n",
    "features_df.iloc[:, 0] = features_df.iloc[:, 0].map(tx_id_mapping)\n",
    "\n",
    "# Sort features by node index to ensure proper alignment\n",
    "features_df = features_df.sort_values(by=\"0\")\n",
    "\n",
    "# Convert features to a PyTorch tensor\n",
    "x = torch.tensor(features_df.iloc[:, 1:].values, dtype=torch.float)\n",
    "\n",
    "# Map transaction IDs to node indices in the labels DataFrame\n",
    "labels_df['txId'] = labels_df['txId'].map(tx_id_mapping)\n",
    "\n",
    "# Map 'unknown' to -1, '1' to 0 (licit), and '2' to 1 (illicit)\n",
    "labels_df['class'] = labels_df['class'].map({'unknown': 0, '1': 1, '2': 2})\n",
    "\n",
    "# Create a label tensor (set nodes without labels to -1)\n",
    "y = torch.full((x.size(0),), 0, dtype=torch.long)  # Default label is 0\n",
    "y[labels_df['txId']] = torch.tensor(labels_df['class'].values, dtype=torch.long)\n",
    "\n",
    "# Create the PyTorch Geometric Data object\n",
    "data = Data(x=x, edge_index=edge_index, y=y)"
   ]
  },
  {
   "cell_type": "code",
   "execution_count": 2,
   "metadata": {},
   "outputs": [],
   "source": [
    "# Create masks for train, validation, and test splits\n",
    "num_nodes = data.num_nodes\n",
    "indices = torch.randperm(num_nodes)  # Random permutation of node indices\n",
    "\n",
    "# Define proportions for train, validation, and test splits\n",
    "train_size = int(0.7 * num_nodes)  # 70% for training\n",
    "val_size = int(0.15 * num_nodes)   # 15% for validation\n",
    "test_size = num_nodes - train_size - val_size  # Remaining 15% for testing\n",
    "\n",
    "# Generate masks\n",
    "train_mask = torch.zeros(num_nodes, dtype=torch.bool)\n",
    "val_mask = torch.zeros(num_nodes, dtype=torch.bool)\n",
    "test_mask = torch.zeros(num_nodes, dtype=torch.bool)\n",
    "\n",
    "# Assign True to the relevant masks\n",
    "train_mask[indices[:train_size]] = True\n",
    "val_mask[indices[train_size:train_size + val_size]] = True\n",
    "test_mask[indices[train_size + val_size:]] = True\n",
    "\n",
    "# Add the masks to the data object\n",
    "data.train_mask = train_mask\n",
    "data.val_mask = val_mask\n",
    "data.test_mask = test_mask"
   ]
  },
  {
   "cell_type": "code",
   "execution_count": 3,
   "metadata": {},
   "outputs": [
    {
     "name": "stdout",
     "output_type": "stream",
     "text": [
      "\n",
      "Data(x=[203769, 166], edge_index=[2, 234355], y=[203769], train_mask=[203769], val_mask=[203769], test_mask=[203769])\n",
      "===========================================================================================================\n",
      "Number of nodes: 203769\n",
      "Number of edges: 234355\n",
      "Average node degree: 1.15\n",
      "Number of training nodes: 142638\n",
      "Training node label rate: 0.70\n",
      "Has isolated nodes: False\n",
      "Has self-loops: False\n",
      "Is undirected: False\n"
     ]
    }
   ],
   "source": [
    "print()\n",
    "print(data)\n",
    "print('===========================================================================================================')\n",
    "\n",
    "# Gather some statistics about the graph.\n",
    "print(f'Number of nodes: {data.num_nodes}')\n",
    "print(f'Number of edges: {data.num_edges}')\n",
    "print(f'Average node degree: {data.num_edges / data.num_nodes:.2f}')\n",
    "print(f'Number of training nodes: {data.train_mask.sum()}')\n",
    "print(f'Training node label rate: {int(data.train_mask.sum()) / data.num_nodes:.2f}')\n",
    "print(f'Has isolated nodes: {data.has_isolated_nodes()}')\n",
    "print(f'Has self-loops: {data.has_self_loops()}')\n",
    "print(f'Is undirected: {data.is_undirected()}')"
   ]
  },
  {
   "cell_type": "code",
   "execution_count": 4,
   "metadata": {},
   "outputs": [],
   "source": [
    "file_path = os.path.expanduser('~/Downloads/data_object.pt')\n",
    "torch.save(data, file_path)"
   ]
  },
  {
   "cell_type": "code",
   "execution_count": null,
   "metadata": {},
   "outputs": [],
   "source": [
    "print(\"change 2\")"
   ]
  }
 ],
 "metadata": {
  "kernelspec": {
   "display_name": "base",
   "language": "python",
   "name": "python3"
  },
  "language_info": {
   "codemirror_mode": {
    "name": "ipython",
    "version": 3
   },
   "file_extension": ".py",
   "mimetype": "text/x-python",
   "name": "python",
   "nbconvert_exporter": "python",
   "pygments_lexer": "ipython3",
   "version": "3.11.7"
  }
 },
 "nbformat": 4,
 "nbformat_minor": 2
}
